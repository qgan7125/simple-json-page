{
 "cells": [
  {
   "cell_type": "code",
   "execution_count": 63,
   "metadata": {},
   "outputs": [],
   "source": [
    "from bs4 import BeautifulSoup\n",
    "import os"
   ]
  },
  {
   "cell_type": "code",
   "execution_count": 64,
   "metadata": {},
   "outputs": [],
   "source": [
    "records = os.listdir(\"./records\")"
   ]
  },
  {
   "cell_type": "code",
   "execution_count": 65,
   "metadata": {},
   "outputs": [],
   "source": [
    "def readFile(path):\n",
    "    f = open(path, 'r')\n",
    "    return f.read()\n",
    "\n",
    "def storeFile(path, content):\n",
    "    f = open(path, \"w\", encoding='utf=8')\n",
    "    try:\n",
    "        f.write(content)\n",
    "        print(\"Success! \" + path)\n",
    "    except:\n",
    "        print(\"Error to write\")\n"
   ]
  },
  {
   "cell_type": "code",
   "execution_count": 66,
   "metadata": {},
   "outputs": [],
   "source": [
    "soup = BeautifulSoup(readFile('index.html'))\n",
    "script = soup.find('script', {'type': \"application/ld+json\"})"
   ]
  },
  {
   "cell_type": "code",
   "execution_count": 67,
   "metadata": {},
   "outputs": [
    {
     "name": "stdout",
     "output_type": "stream",
     "text": [
      "Success! ./pages/ark:-28722-k2zg6r29r.html\n",
      "Success! ./pages/ark:-21547-lg2IND07.html\n",
      "Success! ./pages/ark:-28722-k2t152s9s.html\n",
      "Success! ./pages/IGSN:NHB0031EE.html\n",
      "Success! ./pages/ark:-65665-31a4ebda8-01f5-4b26-8ff3-1da928424337.html\n",
      "Success! ./pages/ark:-65665-337ce8d1d-78f9-4583-83c8-bedda5e747fc.html\n",
      "Success! ./pages/IGSN:IENWU00VJ.html\n",
      "Success! ./pages/ark:-28722-k2vm49b28.html\n",
      "Success! ./pages/IGSN:ODP014CZT.html\n",
      "Success! ./pages/IGSN:DSR000GGA.html\n",
      "Success! ./pages/IGSN:ODP02DGLR.html\n"
     ]
    }
   ],
   "source": [
    "for record in records:\n",
    "    jsonData = readFile(\"./records/\" + record)\n",
    "    script.string.replace_with(jsonData)\n",
    "    storeFile(\"./pages/\" + record.split(\".\")[0] + \".html\", str(soup))\n"
   ]
  }
 ],
 "metadata": {
  "interpreter": {
   "hash": "332567df76dbae08ef60b567d4faed6c23356aed11d819753923ad1545dd59fa"
  },
  "kernelspec": {
   "display_name": "Python 3.9.12 ('env': venv)",
   "language": "python",
   "name": "python3"
  },
  "language_info": {
   "codemirror_mode": {
    "name": "ipython",
    "version": 3
   },
   "file_extension": ".py",
   "mimetype": "text/x-python",
   "name": "python",
   "nbconvert_exporter": "python",
   "pygments_lexer": "ipython3",
   "version": "3.9.12"
  },
  "orig_nbformat": 4
 },
 "nbformat": 4,
 "nbformat_minor": 2
}
