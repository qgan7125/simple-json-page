{
 "cells": [
  {
   "cell_type": "code",
   "execution_count": 1,
   "metadata": {},
   "outputs": [],
   "source": [
    "import requests\n",
    "import json"
   ]
  },
  {
   "cell_type": "code",
   "execution_count": 2,
   "metadata": {},
   "outputs": [],
   "source": [
    "url = 'https://hyde.cyverse.org/isamples_central/thing/{}?full=false&format=core'\n",
    "identifiers = []\n",
    "with open('id.txt') as f:\n",
    "    identifiers = f.readlines()\n",
    "identifiers = [id.strip() for id in identifiers]"
   ]
  },
  {
   "cell_type": "code",
   "execution_count": 3,
   "metadata": {},
   "outputs": [],
   "source": [
    "for identifier in identifiers:\n",
    "    res = requests.get(url.format(identifier))\n",
    "    f = open(\"./records/{}.json\".format(identifier.replace('/', '-')), \"w\")\n",
    "    f.write(json.dumps(res.json(), sort_keys=False, indent=4))\n",
    "    f.close()\n",
    "    "
   ]
  }
 ],
 "metadata": {
  "interpreter": {
   "hash": "332567df76dbae08ef60b567d4faed6c23356aed11d819753923ad1545dd59fa"
  },
  "kernelspec": {
   "display_name": "Python 3.9.12 ('env': venv)",
   "language": "python",
   "name": "python3"
  },
  "language_info": {
   "codemirror_mode": {
    "name": "ipython",
    "version": 3
   },
   "file_extension": ".py",
   "mimetype": "text/x-python",
   "name": "python",
   "nbconvert_exporter": "python",
   "pygments_lexer": "ipython3",
   "version": "3.9.12"
  },
  "orig_nbformat": 4
 },
 "nbformat": 4,
 "nbformat_minor": 2
}
