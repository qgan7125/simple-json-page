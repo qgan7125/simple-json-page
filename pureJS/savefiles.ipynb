{
 "cells": [
  {
   "cell_type": "code",
   "execution_count": 20,
   "metadata": {},
   "outputs": [],
   "source": [
    "import requests\n",
    "import json"
   ]
  },
  {
   "cell_type": "code",
   "execution_count": 13,
   "metadata": {},
   "outputs": [
    {
     "data": {
      "text/plain": [
       "['ark:/28722/k2t152s9s',\n",
       " 'ark:/28722/k2vm49b28',\n",
       " 'ark:/65665/337ce8d1d-78f9-4583-83c8-bedda5e747fc',\n",
       " 'ark:/65665/31a4ebda8-01f5-4b26-8ff3-1da928424337',\n",
       " 'ark:/28722/k2zg6r29r',\n",
       " 'IGSN:IENWU00VJ',\n",
       " 'IGSN:ODP014CZT',\n",
       " 'IGSN:DSR000GGA',\n",
       " 'IGSN:NHB0031EE',\n",
       " 'IGSN:ODP02DGLR']"
      ]
     },
     "execution_count": 13,
     "metadata": {},
     "output_type": "execute_result"
    }
   ],
   "source": [
    "url = 'https://hyde.cyverse.org/isamples_central/thing/{}?full=false&format=full'\n",
    "identifiers = []\n",
    "with open('id.txt') as f:\n",
    "    identifiers = f.readlines()\n",
    "identifiers = [id.strip() for id in identifiers]"
   ]
  },
  {
   "cell_type": "code",
   "execution_count": null,
   "metadata": {},
   "outputs": [],
   "source": [
    "for identifier in identifiers:\n",
    "    res = requests.get(url.format(identifier))\n",
    "    f = open(\"./records/{}.json\".format(identifier.replace('/', '-')), \"w\")\n",
    "    f.write(json.dumps(res.json(), sort_keys=False, indent=4))\n",
    "    f.close()\n",
    "    "
   ]
  }
 ],
 "metadata": {
  "interpreter": {
   "hash": "4d68a3da38dfa5b59a996e516057135c21d6a3e0db923f3e7dc193b979eeda02"
  },
  "kernelspec": {
   "display_name": "Python 3.9.12 ('env': venv)",
   "language": "python",
   "name": "python3"
  },
  "language_info": {
   "codemirror_mode": {
    "name": "ipython",
    "version": 3
   },
   "file_extension": ".py",
   "mimetype": "text/x-python",
   "name": "python",
   "nbconvert_exporter": "python",
   "pygments_lexer": "ipython3",
   "version": "3.9.12"
  },
  "orig_nbformat": 4
 },
 "nbformat": 4,
 "nbformat_minor": 2
}
